{
 "cells": [
  {
   "cell_type": "code",
   "execution_count": null,
   "metadata": {},
   "outputs": [],
   "source": [
    "from matplotlib import pyplot as plt\n",
    "import zipfile\n",
    "from zipfile import ZipFile\n",
    "from PIL import Image\n",
    "import pytesseract\n",
    "import cv2 as cv\n",
    "import numpy as np"
   ]
  },
  {
   "cell_type": "markdown",
   "metadata": {},
   "source": [
    "Lets try to open the files in zip and view one."
   ]
  },
  {
   "cell_type": "code",
   "execution_count": null,
   "metadata": {},
   "outputs": [],
   "source": [
    "  #get the ZipFile class.  I believe this is the more important object to work with"
   ]
  },
  {
   "cell_type": "code",
   "execution_count": null,
   "metadata": {},
   "outputs": [],
   "source": [
    "with ZipFile('small_img.zip','r') as myzip: # select your zip file to open\n",
    "    data = myzip.read('a-0.png')\n",
    "    \n",
    "    \n",
    "img = cv.imdecode(np.frombuffer(data, np.uint8), 1)  \n",
    "\n",
    "gray = cv.cvtColor(img, cv.COLOR_BGR2GRAY )\n",
    "\n",
    "display(Image.fromarray(gray))\n",
    "\n",
    "haar_cascade = cv.CascadeClassifier('haar_face.xml')\n",
    "\n",
    "faces_rect = haar_cascade.detectMultiScale(gray,scaleFactor = 1.25, minNeighbors=9)\n",
    "\n",
    "print('Number of rectangles: {}'.format((len(faces_rect))\n",
    "\n"
   ]
  },
  {
   "cell_type": "code",
   "execution_count": null,
   "metadata": {},
   "outputs": [],
   "source": []
  },
  {
   "cell_type": "code",
   "execution_count": null,
   "metadata": {},
   "outputs": [],
   "source": [
    "haar_cascade = cv.CascadeClassifier('haar_face.xml')\n",
    "\n",
    "faces_rect = haar_cascade.detectMultiScale(gray,scaleFactor = 1.25, minNeighbors=9)\n",
    "\n",
    "print(len(faces_rect))"
   ]
  },
  {
   "cell_type": "code",
   "execution_count": null,
   "metadata": {},
   "outputs": [],
   "source": [
    "cropped = []\n",
    "for (x,y,w,h) in faces_rect:\n",
    "    cv.rectangle(gray,(x,y),(x+w,y+h), (0,255,0),thickness = 4)\n",
    "    \n",
    "\n",
    "display(Image.fromarray(gray))"
   ]
  },
  {
   "cell_type": "code",
   "execution_count": null,
   "metadata": {},
   "outputs": [],
   "source": [
    "print(faces_rect)"
   ]
  },
  {
   "cell_type": "code",
   "execution_count": null,
   "metadata": {},
   "outputs": [],
   "source": [
    "with ZipFile('small_img.zip','r') as myzip: # select your zip file to open\n",
    "    with myzip.open('a-0.png') as myfile:\n",
    "    #data = myzip.read('a-0.png')\n",
    "        with Image.open(myfile) as image_crop:\n",
    "            image_crop.convert('L')\n",
    "            image_crop.show()"
   ]
  },
  {
   "cell_type": "code",
   "execution_count": null,
   "metadata": {},
   "outputs": [],
   "source": [
    "def get_files(zip_file):\n",
    "    \"Opens a zip file and appends image files to a list\"\n",
    "    \n",
    "    with ZipFile('small_img.zip','r') as myzip: # select your zip file to open\n",
    "    with myzip.open('a-0.png') as myfile:\n",
    "    #data = myzip.read('a-0.png')\n",
    "        with Image.open(myfile) as image_crop:\n",
    "            image_crop.convert('L')\n",
    "            image_crop.show()\n",
    "    \n",
    "    "
   ]
  },
  {
   "cell_type": "code",
   "execution_count": null,
   "metadata": {},
   "outputs": [],
   "source": [
    "image_crop.show()"
   ]
  },
  {
   "cell_type": "code",
   "execution_count": null,
   "metadata": {},
   "outputs": [],
   "source": [
    "im_crop = image_crop.crop((x, y, (x+w), (y+h)))"
   ]
  }
 ],
 "metadata": {
  "kernelspec": {
   "display_name": "Python 3",
   "language": "python",
   "name": "python3"
  },
  "language_info": {
   "codemirror_mode": {
    "name": "ipython",
    "version": 3
   },
   "file_extension": ".py",
   "mimetype": "text/x-python",
   "name": "python",
   "nbconvert_exporter": "python",
   "pygments_lexer": "ipython3",
   "version": "3.9.1"
  }
 },
 "nbformat": 4,
 "nbformat_minor": 4
}
